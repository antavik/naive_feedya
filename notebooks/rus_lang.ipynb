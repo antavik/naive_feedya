{
 "cells": [
  {
   "cell_type": "code",
   "execution_count": 9,
   "id": "38389d60",
   "metadata": {},
   "outputs": [
    {
     "name": "stderr",
     "output_type": "stream",
     "text": [
      "[nltk_data] Downloading package punkt to /home/app/nltk_data...\n",
      "[nltk_data]   Package punkt is already up-to-date!\n",
      "[nltk_data] Downloading package stopwords to /home/app/nltk_data...\n",
      "[nltk_data]   Package stopwords is already up-to-date!\n"
     ]
    },
    {
     "data": {
      "text/plain": [
       "True"
      ]
     },
     "execution_count": 9,
     "metadata": {},
     "output_type": "execute_result"
    }
   ],
   "source": [
    "import nltk\n",
    "from nltk.corpus import stopwords\n",
    "from nltk.stem.porter import PorterStemmer\n",
    "\n",
    "nltk.download('punkt')\n",
    "nltk.download('stopwords')"
   ]
  },
  {
   "cell_type": "code",
   "execution_count": 10,
   "id": "895f283d",
   "metadata": {},
   "outputs": [],
   "source": [
    "_STEMMER = PorterStemmer()"
   ]
  },
  {
   "cell_type": "code",
   "execution_count": 14,
   "id": "d1ec7f57",
   "metadata": {},
   "outputs": [
    {
     "data": {
      "text/plain": [
       "'хорошо много'"
      ]
     },
     "execution_count": 14,
     "metadata": {},
     "output_type": "execute_result"
    }
   ],
   "source": [
    "_STEMMER.stem('Хорошо много')"
   ]
  },
  {
   "cell_type": "code",
   "execution_count": 15,
   "id": "a9e33f91",
   "metadata": {},
   "outputs": [
    {
     "data": {
      "text/plain": [
       "['и',\n",
       " 'в',\n",
       " 'во',\n",
       " 'не',\n",
       " 'что',\n",
       " 'он',\n",
       " 'на',\n",
       " 'я',\n",
       " 'с',\n",
       " 'со',\n",
       " 'как',\n",
       " 'а',\n",
       " 'то',\n",
       " 'все',\n",
       " 'она',\n",
       " 'так',\n",
       " 'его',\n",
       " 'но',\n",
       " 'да',\n",
       " 'ты',\n",
       " 'к',\n",
       " 'у',\n",
       " 'же',\n",
       " 'вы',\n",
       " 'за',\n",
       " 'бы',\n",
       " 'по',\n",
       " 'только',\n",
       " 'ее',\n",
       " 'мне',\n",
       " 'было',\n",
       " 'вот',\n",
       " 'от',\n",
       " 'меня',\n",
       " 'еще',\n",
       " 'нет',\n",
       " 'о',\n",
       " 'из',\n",
       " 'ему',\n",
       " 'теперь',\n",
       " 'когда',\n",
       " 'даже',\n",
       " 'ну',\n",
       " 'вдруг',\n",
       " 'ли',\n",
       " 'если',\n",
       " 'уже',\n",
       " 'или',\n",
       " 'ни',\n",
       " 'быть',\n",
       " 'был',\n",
       " 'него',\n",
       " 'до',\n",
       " 'вас',\n",
       " 'нибудь',\n",
       " 'опять',\n",
       " 'уж',\n",
       " 'вам',\n",
       " 'ведь',\n",
       " 'там',\n",
       " 'потом',\n",
       " 'себя',\n",
       " 'ничего',\n",
       " 'ей',\n",
       " 'может',\n",
       " 'они',\n",
       " 'тут',\n",
       " 'где',\n",
       " 'есть',\n",
       " 'надо',\n",
       " 'ней',\n",
       " 'для',\n",
       " 'мы',\n",
       " 'тебя',\n",
       " 'их',\n",
       " 'чем',\n",
       " 'была',\n",
       " 'сам',\n",
       " 'чтоб',\n",
       " 'без',\n",
       " 'будто',\n",
       " 'чего',\n",
       " 'раз',\n",
       " 'тоже',\n",
       " 'себе',\n",
       " 'под',\n",
       " 'будет',\n",
       " 'ж',\n",
       " 'тогда',\n",
       " 'кто',\n",
       " 'этот',\n",
       " 'того',\n",
       " 'потому',\n",
       " 'этого',\n",
       " 'какой',\n",
       " 'совсем',\n",
       " 'ним',\n",
       " 'здесь',\n",
       " 'этом',\n",
       " 'один',\n",
       " 'почти',\n",
       " 'мой',\n",
       " 'тем',\n",
       " 'чтобы',\n",
       " 'нее',\n",
       " 'сейчас',\n",
       " 'были',\n",
       " 'куда',\n",
       " 'зачем',\n",
       " 'всех',\n",
       " 'никогда',\n",
       " 'можно',\n",
       " 'при',\n",
       " 'наконец',\n",
       " 'два',\n",
       " 'об',\n",
       " 'другой',\n",
       " 'хоть',\n",
       " 'после',\n",
       " 'над',\n",
       " 'больше',\n",
       " 'тот',\n",
       " 'через',\n",
       " 'эти',\n",
       " 'нас',\n",
       " 'про',\n",
       " 'всего',\n",
       " 'них',\n",
       " 'какая',\n",
       " 'много',\n",
       " 'разве',\n",
       " 'три',\n",
       " 'эту',\n",
       " 'моя',\n",
       " 'впрочем',\n",
       " 'хорошо',\n",
       " 'свою',\n",
       " 'этой',\n",
       " 'перед',\n",
       " 'иногда',\n",
       " 'лучше',\n",
       " 'чуть',\n",
       " 'том',\n",
       " 'нельзя',\n",
       " 'такой',\n",
       " 'им',\n",
       " 'более',\n",
       " 'всегда',\n",
       " 'конечно',\n",
       " 'всю',\n",
       " 'между']"
      ]
     },
     "execution_count": 15,
     "metadata": {},
     "output_type": "execute_result"
    }
   ],
   "source": [
    "stopwords.words('russian')"
   ]
  },
  {
   "cell_type": "code",
   "execution_count": null,
   "id": "96c4b712",
   "metadata": {},
   "outputs": [],
   "source": [
    "from nltk.stem.snowball import SnowballStemmer"
   ]
  },
  {
   "cell_type": "code",
   "execution_count": null,
   "id": "2be1cfaf",
   "metadata": {},
   "outputs": [],
   "source": [
    "stemmer = SnowballStemmer('russian')"
   ]
  },
  {
   "cell_type": "code",
   "execution_count": null,
   "id": "1b2c05af",
   "metadata": {},
   "outputs": [],
   "source": [
    "stemmer.stem('мозила')"
   ]
  },
  {
   "cell_type": "code",
   "execution_count": 1,
   "id": "cfed6183",
   "metadata": {},
   "outputs": [],
   "source": [
    "import spacy\n",
    "# nlp = spacy.load(\"ru_core_news_lg\")"
   ]
  },
  {
   "cell_type": "code",
   "execution_count": 8,
   "id": "2d85efba",
   "metadata": {},
   "outputs": [],
   "source": [
    "doc = nlp(\"тестовая строка для новостей\")"
   ]
  },
  {
   "cell_type": "code",
   "execution_count": 5,
   "id": "d2ae8c12",
   "metadata": {},
   "outputs": [
    {
     "name": "stdout",
     "output_type": "stream",
     "text": [
      "[('тестовая', 'ADJ'), ('строка', 'NOUN'), ('для', 'ADP'), ('новостей', 'NOUN')]\n"
     ]
    }
   ],
   "source": [
    "print([(w.text, w.pos_) for w in doc])"
   ]
  },
  {
   "cell_type": "code",
   "execution_count": 6,
   "id": "737c1769",
   "metadata": {},
   "outputs": [
    {
     "name": "stdout",
     "output_type": "stream",
     "text": [
      "тестовая тестовый ADJ ADJ amod xxxx True False\n",
      "строка строка NOUN NOUN ROOT xxxx True False\n",
      "для для ADP ADP case xxx True True\n",
      "новостей новость NOUN NOUN nmod xxxx True False\n"
     ]
    }
   ],
   "source": [
    "for token in doc:\n",
    "    print(token.text, token.lemma_, token.pos_, token.tag_, token.dep_,\n",
    "            token.shape_, token.is_alpha, token.is_stop)"
   ]
  },
  {
   "cell_type": "code",
   "execution_count": 3,
   "id": "43e072a5",
   "metadata": {},
   "outputs": [],
   "source": [
    "nlp = spacy.load('ru_core_news_sm')"
   ]
  },
  {
   "cell_type": "code",
   "execution_count": 10,
   "id": "0bfa2a59",
   "metadata": {},
   "outputs": [],
   "source": [
    "import string\n",
    "import re\n",
    "\n",
    "_TRANSLATION_MAPPING = str.maketrans(\n",
    "    dict.fromkeys(string.punctuation + \"’‘–«»\")\n",
    ")\n",
    "_LEMMER = spacy.load(\"ru_core_news_sm\")\n",
    "\n",
    "def tokenize_document(document: str):\n",
    "    processed_document = document.translate(_TRANSLATION_MAPPING)\n",
    "\n",
    "    tokens = tuple(\n",
    "        token.lemma_\n",
    "        for token in _LEMMER(processed_document)\n",
    "        if not token.is_stop and\n",
    "        not re.fullmatch(r'^(19|20)\\d{2}$', token.text)  # Regex for years 19??, 20??  # noqa\n",
    "    )\n",
    "\n",
    "    return tokens"
   ]
  },
  {
   "cell_type": "code",
   "execution_count": 11,
   "id": "205d4b49",
   "metadata": {},
   "outputs": [],
   "source": [
    "doc = \"«Я уже смирилась со смертью. Еще больше боюсь русской жизни». 21-летняя Полина Ковалевская вместе с родными больше месяца выживала в осажденном Мариуполе. Вот ее дневник\""
   ]
  },
  {
   "cell_type": "code",
   "execution_count": 12,
   "id": "095ff11d",
   "metadata": {},
   "outputs": [
    {
     "data": {
      "text/plain": [
       "('смириться',\n",
       " 'смерть',\n",
       " 'бояться',\n",
       " 'русский',\n",
       " 'жизнь',\n",
       " '21летняя',\n",
       " 'полина',\n",
       " 'ковалевский',\n",
       " 'вместе',\n",
       " 'родными',\n",
       " 'месяц',\n",
       " 'выживать',\n",
       " 'осажденном',\n",
       " 'мариуполь',\n",
       " 'дневник')"
      ]
     },
     "execution_count": 12,
     "metadata": {},
     "output_type": "execute_result"
    }
   ],
   "source": [
    "tokenize_document(doc)"
   ]
  },
  {
   "cell_type": "code",
   "execution_count": 5,
   "id": "4cf45db4",
   "metadata": {},
   "outputs": [
    {
     "name": "stdout",
     "output_type": "stream",
     "text": [
      "« \" PUNCT PUNCT punct « False False\n",
      "Я я PRON PRON nsubj X True True\n",
      "уже уже ADV ADV advmod xxx True True\n",
      "смирилась смириться VERB VERB ROOT xxxx True False\n",
      "со со ADP ADP case xx True True\n",
      "смертью смерть NOUN NOUN obl xxxx True False\n",
      ". . PUNCT PUNCT punct . False False\n",
      "Еще еще ADV ADV advmod Xxx True True\n",
      "больше больше ADV ADV advmod xxxx True True\n",
      "боюсь бояться VERB VERB ROOT xxxx True False\n",
      "русской русский ADJ ADJ amod xxxx True False\n",
      "жизни жизнь NOUN NOUN obj xxxx True False\n",
      "» \" PUNCT PUNCT punct » False False\n",
      ". . PUNCT PUNCT punct . False False\n",
      "21-летняя 21-летняя ADJ ADJ amod dd-xxxx False False\n",
      "Полина полина PROPN PROPN nsubj Xxxxx True False\n",
      "Ковалевская ковалевский PROPN PROPN flat:name Xxxxx True False\n",
      "вместе вместе ADV ADV advmod xxxx True False\n",
      "с с ADP ADP case x True True\n",
      "родными родными NOUN NOUN obl xxxx True False\n",
      "больше больше ADV ADV nummod:gov xxxx True True\n",
      "месяца месяц NOUN NOUN obl xxxx True False\n",
      "выживала выживать VERB VERB ROOT xxxx True False\n",
      "в в ADP ADP case x True True\n",
      "осажденном осажденном ADJ ADJ amod xxxx True False\n",
      "Мариуполе мариуполь PROPN PROPN obl Xxxxx True False\n",
      ". . PUNCT PUNCT punct . False False\n",
      "Вот вот PART PART advmod Xxx True True\n",
      "ее её DET DET det xx True True\n",
      "дневник дневник NOUN NOUN ROOT xxxx True False\n"
     ]
    }
   ],
   "source": [
    "for token in doc:\n",
    "    print(token.text, token.lemma_, token.pos_, token.tag_, token.dep_,\n",
    "            token.shape_, token.is_alpha, token.is_stop)"
   ]
  },
  {
   "cell_type": "code",
   "execution_count": null,
   "id": "d63f8f66",
   "metadata": {},
   "outputs": [],
   "source": []
  }
 ],
 "metadata": {
  "kernelspec": {
   "display_name": "Python 3 (ipykernel)",
   "language": "python",
   "name": "python3"
  },
  "language_info": {
   "codemirror_mode": {
    "name": "ipython",
    "version": 3
   },
   "file_extension": ".py",
   "mimetype": "text/x-python",
   "name": "python",
   "nbconvert_exporter": "python",
   "pygments_lexer": "ipython3",
   "version": "3.9.3"
  }
 },
 "nbformat": 4,
 "nbformat_minor": 5
}
